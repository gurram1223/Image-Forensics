{
 "cells": [
  {
   "cell_type": "markdown",
   "metadata": {
    "colab_type": "text",
    "id": "GJoaDeh54WAq"
   },
   "source": [
    "# Image Forgery Detection"
   ]
  },
  {
   "cell_type": "markdown",
   "metadata": {
    "colab_type": "text",
    "id": "XMOMI3N5BsJT"
   },
   "source": [
    "In 2013 IEEE Information Forensics and Security Technical Committee (IFS-TC) established the First IFS-TC Image Forensics\n",
    "Challenge\n",
    "\n",
    "**Fake image**: An image that has been manipulated/doctored using the two most common manipulation operations namely: copy/pasting and image splicing.\n",
    "\n",
    "**Pristine image**: An image that has not been manipulated except for the resizing needed to bring all images to a standard size as per competition rules.\n",
    "\n",
    "**Image splicing**: The splicing operations can combine images of people, adding doors to buildings, adding trees and cars to parking lots etc. The spliced images can also contain resulting parts from copy/pasting operations. The image receiving a spliced part is called a “host” image. The parts being spliced together with the host image are referred to as “aliens”"
   ]
  },
  {
   "cell_type": "markdown",
   "metadata": {
    "colab_type": "text",
    "id": "djAyf5adByUI"
   },
   "source": [
    "**Dataset Overview:**\n",
    "\n",
    "The dataset consists of 1050 pristine, 450 fake images and 450 Ground truths. Color images are usually 3 channel images one channel for each red, green and blue colors, however sometimes the fourth channel for yellow may be present. Images in our dataset are a mix of 1, 3 and 4 channel images."
   ]
  },
  {
   "cell_type": "markdown",
   "metadata": {
    "colab_type": "text",
    "id": "ElZ2GWpJlGLH"
   },
   "source": [
    "**Objective:**\n",
    "\n",
    "Given image data, we need to descriminate whether a given image is pristine or fake."
   ]
  },
  {
   "cell_type": "code",
   "execution_count": 0,
   "metadata": {
    "colab": {
     "base_uri": "https://localhost:8080/",
     "height": 122
    },
    "colab_type": "code",
    "id": "X7hp82BUvszf",
    "outputId": "a4a4c800-73f6-44c7-eede-77389e2330fa"
   },
   "outputs": [
    {
     "name": "stdout",
     "output_type": "stream",
     "text": [
      "Go to this URL in a browser: https://accounts.google.com/o/oauth2/auth?client_id=947318989803-6bn6qk8qdgf4n4g3pfee6491hc0brc4i.apps.googleusercontent.com&redirect_uri=urn%3Aietf%3Awg%3Aoauth%3A2.0%3Aoob&scope=email%20https%3A%2F%2Fwww.googleapis.com%2Fauth%2Fdocs.test%20https%3A%2F%2Fwww.googleapis.com%2Fauth%2Fdrive%20https%3A%2F%2Fwww.googleapis.com%2Fauth%2Fdrive.photos.readonly%20https%3A%2F%2Fwww.googleapis.com%2Fauth%2Fpeopleapi.readonly&response_type=code\n",
      "\n",
      "Enter your authorization code:\n",
      "··········\n",
      "Mounted at /content/drive\n"
     ]
    }
   ],
   "source": [
    "from google.colab import drive\n",
    "drive.mount('/content/drive')"
   ]
  },
  {
   "cell_type": "code",
   "execution_count": 0,
   "metadata": {
    "colab": {},
    "colab_type": "code",
    "id": "TrMNHe8Iu7IT"
   },
   "outputs": [],
   "source": [
    "# Import Libraries \n",
    "\n",
    "import warnings\n",
    "warnings.filterwarnings(\"ignore\")\n",
    "\n",
    "import matplotlib.pyplot as plt\n",
    "import PIL\n",
    "import numpy as np\n",
    "import pandas as pd\n",
    "import os\n",
    "import tarfile\n",
    "from PIL import Image\n",
    "import matplotlib\n",
    "from tqdm import tqdm_notebook, tnrange\n",
    "from PIL import Image, ImageChops, ImageEnhance\n",
    "\n",
    "from skimage.io import imread\n",
    "from skimage import exposure, color\n",
    "from skimage.transform import resize\n",
    "from skimage.io import imread, imshow, concatenate_images\n",
    "from skimage.transform import resize\n",
    "from skimage.morphology import label\n",
    "from itertools import chain\n",
    "from sklearn.model_selection import train_test_split\n",
    "\n",
    "import tensorflow as tf\n",
    "import keras\n",
    "from keras import backend as K\n",
    "from keras.models import Sequential\n",
    "from keras.layers import Dense, Dropout, Flatten\n",
    "from keras.layers import Conv2D, MaxPooling2D\n",
    "from keras.preprocessing.image import ImageDataGenerator\n",
    "from keras.models import Model, load_model\n",
    "from keras.layers import Input, BatchNormalization, Activation, Dense, Dropout\n",
    "from keras.layers.core import Lambda, RepeatVector, Reshape\n",
    "from keras.layers.convolutional import Conv2D, Conv2DTranspose\n",
    "from keras.layers.pooling import MaxPooling2D, GlobalMaxPool2D\n",
    "from keras.layers.merge import concatenate, add\n",
    "from keras.callbacks import EarlyStopping, ModelCheckpoint, ReduceLROnPlateau\n",
    "from keras.layers.merge import concatenate, add\n",
    "from keras.optimizers import Adam,SGD\n",
    "from keras import optimizers\n",
    "from tensorboardcolab import TensorBoardColab,TensorBoardColabCallback\n",
    "from keras.preprocessing.image import ImageDataGenerator, array_to_img, img_to_array, load_img\n",
    "from keras.models import load_model\n",
    "from keras.applications import vgg16 as vgg\n",
    "from keras.applications.resnet import ResNet50\n",
    "from keras.applications.resnet import ResNet101\n",
    "from keras.applications.inception_v3 import InceptionV3\n",
    "from sklearn.metrics import roc_curve, auc,roc_auc_score\n",
    "\n",
    "from tqdm import tqdm\n",
    "import cv2\n",
    "import shutil\n",
    "\n",
    "# https://github.com/albu/albumentations\n",
    "\n",
    "from albumentations import (\n",
    "    IAAPerspective, ShiftScaleRotate, CLAHE, \n",
    "     ShiftScaleRotate, Blur,   HueSaturationValue,\n",
    "    IAAAdditiveGaussianNoise, GaussNoise, MotionBlur, MedianBlur, IAAPiecewiseAffine,\n",
    "\tPadIfNeeded,HorizontalFlip,VerticalFlip, CenterCrop, Crop, Compose, Transpose, RandomRotate90, ElasticTransform, \n",
    "    GridDistortion, OpticalDistortion, RandomSizedCrop, OneOf, CLAHE, RandomBrightnessContrast, RandomGamma, ChannelShuffle,\n",
    "    IAASharpen, IAAEmboss, RandomContrast, RandomBrightness, Flip, OneOf, Compose, RandomGamma, RGBShift, Rotate\n",
    ")"
   ]
  },
  {
   "cell_type": "markdown",
   "metadata": {
    "colab_type": "text",
    "id": "uYXlpJZg2VYr"
   },
   "source": [
    "#Error Level Analysis"
   ]
  },
  {
   "cell_type": "markdown",
   "metadata": {
    "colab_type": "text",
    "id": "n2ctu6LEcDd5"
   },
   "source": [
    "https://gist.github.com/ewencp/3356622\n",
    "\n",
    "https://forensics.map-base.info/report_2/index_en.shtml#b\n",
    "\n",
    "https://fotoforensics.com/tutorial-ela.php\n",
    "\n",
    "https://www.youtube.com/watch?v=G1Y0UTMTF7o&t=671s\n",
    "\n",
    "https://29a.ch/photo-forensics/#error-level-analysis  -  Tool to understand how it works\n",
    "\n",
    "\n",
    "Error Level Analysis is based on characteristics of image formats that are based on lossy image compression. This method can highlight areas of an image which has different degrees of compression. Especially the JPEG format (one of the most popular image formats on the Internet) can be applied particularly well using this method.\n",
    "\n",
    "For a better understanding it is necessary to know how images in JPEG format are created. JPEG uses a lossy image compression. Each re-encoding process (new saving) performed on the image leads to further loss of quality. The JPEG algorithm is based on a 8x8 pixel grid. Each 8x8 square grid is thereby treated and compressed separately. If the image is untouched, then all these 8x8 squares will show the same error level potential.\n",
    "\n",
    "If the jpeg image is saved again, then each square should be continuously reduced to approximately the same level. In the ELA process, the original image that is being examined will be resaved at a certain JPEG quality level (for example, at 75%). The resave leads to a known degree of compression, which extends over the entire image. The newly saved image is used to be compared with the original image. The human eye would hardly notice a change. Therefore, the ELA representation will visualize in particular only the difference between the two images. So, the resulting ELA image shows the varying degrees of compression potentials."
   ]
  },
  {
   "cell_type": "markdown",
   "metadata": {
    "colab_type": "text",
    "id": "rioV-l65c0E_"
   },
   "source": [
    "![alt text](https://forensics.map-base.info/report_2/grafx/ela_method_en.jpg)"
   ]
  },
  {
   "cell_type": "code",
   "execution_count": 0,
   "metadata": {
    "colab": {},
    "colab_type": "code",
    "id": "uNsFKHAb1_aD"
   },
   "outputs": [],
   "source": [
    "%%time\n",
    "\n",
    "if not os.path.exists(path+'aug_data_512/ELA_Images'):\n",
    "    os.makedirs(path+'aug_data_512/ELA_Images')\n",
    "    \n",
    "    for file in (os.listdir(path+'aug_data_512/images')):\n",
    "        filename = path+'aug_data_512/images/{}'.format(file)\n",
    "        resaved = '.resaved.jpg'\n",
    "        ela = path+'aug_data_512/ELA_Images/{}'.format(file)\n",
    "        im = Image.open(filename).convert(\"RGB\")\n",
    "        im.save(resaved, 'JPEG', quality=95) # try different JPEG quality levels.\n",
    "        resaved_im = Image.open(resaved)\n",
    "        ela_im = ImageChops.difference(im, resaved_im)\n",
    "        extrema = ela_im.getextrema()\n",
    "        max_diff = max([ex[1] for ex in extrema])\n",
    "        scale = 255.0/max_diff\n",
    "        ela_im = ImageEnhance.Brightness(ela_im).enhance(scale)\n",
    "        ela_im.save(ela)\n",
    "    print(\"DONE Converting to ELA!\")\n",
    "else:\n",
    "    print(\"Already Exists!\")"
   ]
  },
  {
   "cell_type": "code",
   "execution_count": 0,
   "metadata": {
    "colab": {},
    "colab_type": "code",
    "id": "5MSHFonJxB82"
   },
   "outputs": [],
   "source": [
    "# %%time\n",
    "if not os.path.exists(path+\"total_images_512\"):\n",
    "    os.makedirs(path+\"total_images_512/masks\")\n",
    "    os.makedirs(path+\"total_images_512/images\")\n",
    "    for i,val in enumerate(fake_imageIDs):\n",
    "        actual_image=fake_dir+val+\".png\"\n",
    "        img=Image.open(actual_image).convert(\"RGB\")\n",
    "        image_id=\"image{}.png\".format(i)\n",
    "        height = 512\n",
    "        width = 512\n",
    "        img = img.resize((height, width), PIL.Image.ANTIALIAS)\n",
    "        img.save(path+\"total_images_512/images/\"+image_id)\n",
    "        #PATH_mask=PATH[:-3]+'mask.png'\n",
    "        mask_image=val+\".mask.png\"\n",
    "        mask=Image.open(fake_dir+mask_image).convert(\"RGB\")\n",
    "        #hpercent = (baseheight / float(mask.size[1]))\n",
    "        #wsize = int((float(mask.size[0]) * float(hpercent)))\n",
    "        mask = mask.resize((height, width), PIL.Image.ANTIALIAS)\n",
    "        mask_id=\"mask{}.png\".format(i)\n",
    "        mask.save(path+\"total_images_512/masks/\"+mask_id)\n",
    "    print(\"Done Resizing for fake images and masks\")  \n",
    "else:\n",
    "    print(\"Directories are already present in the path\")"
   ]
  },
  {
   "cell_type": "code",
   "execution_count": 0,
   "metadata": {
    "colab": {},
    "colab_type": "code",
    "id": "78xc5rlvxB0J"
   },
   "outputs": [],
   "source": [
    "# %%time\n",
    "for i,val in enumerate(pristine_imageIDs):\n",
    "    actual_image=pristine_dir+val+\".png\"\n",
    "    img=Image.open(actual_image).convert(\"RGB\")\n",
    "    image_id=\"image{}.png\".format(450+i)\n",
    "    height = 512\n",
    "    width = 512\n",
    "    img = img.resize((height, width), PIL.Image.ANTIALIAS)\n",
    "    img.save(path+\"total_images_512/images/\"+image_id)\n",
    "print(\"Done Resizing for pristine\") \n"
   ]
  },
  {
   "cell_type": "code",
   "execution_count": 0,
   "metadata": {
    "colab": {
     "base_uri": "https://localhost:8080/",
     "height": 34
    },
    "colab_type": "code",
    "id": "uKvg08jmxIb2",
    "outputId": "b26d1456-29d2-47a8-e072-72a504d1a4b4"
   },
   "outputs": [
    {
     "data": {
      "text/plain": [
       "(450, 450)"
      ]
     },
     "execution_count": 4,
     "metadata": {
      "tags": []
     },
     "output_type": "execute_result"
    }
   ],
   "source": [
    "ela_image_files_fake ='/content/drive/My Drive/COLAB FILES/Image Forensics/dataset-dist/phase-01/training/total_images_512/ELA_Images/'\n",
    "masks_files='/content/drive/My Drive/COLAB FILES/Image Forensics/dataset-dist/phase-01/training/total_images_512/masks/'\n",
    "path ='/content/drive/My Drive/COLAB FILES/Image Forensics/dataset-dist/phase-01/training/'\n",
    "\n",
    "len(os.listdir(ela_image_files_fake )),len(os.listdir(masks_files))"
   ]
  },
  {
   "cell_type": "code",
   "execution_count": 0,
   "metadata": {
    "colab": {
     "base_uri": "https://localhost:8080/",
     "height": 34
    },
    "colab_type": "code",
    "id": "WJZpb_i55tpe",
    "outputId": "55c0c109-9667-4f5f-e547-1439184fbe6d"
   },
   "outputs": [
    {
     "data": {
      "text/plain": [
       "'/content/drive/My Drive/COLAB FILES/Image Forensics/dataset-dist/phase-01/training/total_images_512/ELA_Images/'"
      ]
     },
     "execution_count": 5,
     "metadata": {
      "tags": []
     },
     "output_type": "execute_result"
    }
   ],
   "source": [
    "ela_image_files_fake"
   ]
  },
  {
   "cell_type": "code",
   "execution_count": 0,
   "metadata": {
    "colab": {
     "base_uri": "https://localhost:8080/",
     "height": 34
    },
    "colab_type": "code",
    "id": "xEqeQxKM1nRU",
    "outputId": "28ba71f7-4ee5-4f0e-b1f3-d6ad566a4321"
   },
   "outputs": [
    {
     "data": {
      "text/plain": [
       "1500"
      ]
     },
     "execution_count": 6,
     "metadata": {
      "tags": []
     },
     "output_type": "execute_result"
    }
   ],
   "source": [
    "ela_image_files = []\n",
    "ela_image_files_pos = []\n",
    "ela_image_files_fake = []\n",
    "for i in range(450):\n",
    "    ela_image_path_fake=\"/content/drive/My Drive/COLAB FILES/Image Forensics/dataset-dist/phase-01/training/total_images_512/ELA_Images/image{}.png\".format(i)\n",
    "    ela_image_files_fake.append(ela_image_path_fake)\n",
    "for i in range(4050,5100):\n",
    "    ela_image_path_pos=path+\"aug_data_512/ELA_Images/image{}.png\".format(i)\n",
    "    ela_image_files_pos.append(ela_image_path_pos)\n",
    "\n",
    "ela_image_files.extend(ela_image_files_fake)\n",
    "ela_image_files.extend(ela_image_files_pos)\n",
    "\n",
    "len(ela_image_files)"
   ]
  },
  {
   "cell_type": "markdown",
   "metadata": {
    "colab_type": "text",
    "id": "bDRdeGfe41M3"
   },
   "source": [
    "# Train-Test Split"
   ]
  },
  {
   "cell_type": "code",
   "execution_count": 0,
   "metadata": {
    "colab": {},
    "colab_type": "code",
    "id": "8vz7Ddf2vNa7"
   },
   "outputs": [],
   "source": [
    "# Here we choose 1800 fake images(after augmentation) and 1050 pristine images.\n",
    "\n",
    "class_labels = [0]*450+[1]*1050  \n",
    "\n",
    "# Stratify - it is often chosen to ensure that the train and test sets have approximately the same percentage of samples of each target class as the complete set.\n",
    "X_train, X_test, y_train, y_test = train_test_split(ela_image_files,class_labels , test_size=0.12,stratify=class_labels, random_state=143)\n",
    "X_train, X_cv, y_train, y_cv = train_test_split(X_train,y_train , test_size=0.10,stratify=y_train, random_state=143)"
   ]
  },
  {
   "cell_type": "code",
   "execution_count": 0,
   "metadata": {
    "colab": {
     "base_uri": "https://localhost:8080/",
     "height": 34
    },
    "colab_type": "code",
    "id": "pLQhIYS3Hk7R",
    "outputId": "c80b49e9-fafc-4530-efe3-2ee4dd8820cc"
   },
   "outputs": [
    {
     "data": {
      "text/plain": [
       "(1188, 132, 180)"
      ]
     },
     "execution_count": 82,
     "metadata": {
      "tags": []
     },
     "output_type": "execute_result"
    }
   ],
   "source": [
    "len(X_train),len(X_cv),len(X_test)"
   ]
  },
  {
   "cell_type": "code",
   "execution_count": 0,
   "metadata": {
    "colab": {},
    "colab_type": "code",
    "id": "u6xkN8etBZ6T"
   },
   "outputs": [],
   "source": [
    "# X_train"
   ]
  },
  {
   "cell_type": "code",
   "execution_count": 0,
   "metadata": {
    "colab": {
     "base_uri": "https://localhost:8080/",
     "height": 34
    },
    "colab_type": "code",
    "id": "BdM8DQ98B725",
    "outputId": "1b7674e0-549c-4954-a87e-834333c030d5"
   },
   "outputs": [
    {
     "data": {
      "text/plain": [
       "356"
      ]
     },
     "execution_count": 83,
     "metadata": {
      "tags": []
     },
     "output_type": "execute_result"
    }
   ],
   "source": [
    "import re\n",
    "fake_train_files = []\n",
    "for i in range(len(X_train)):\n",
    "    if (int(re.findall('\\d+', X_train[i])[2])) < 450:\n",
    "        fake_train_files.append(X_train[i])\n",
    "len(fake_train_files)"
   ]
  },
  {
   "cell_type": "markdown",
   "metadata": {
    "colab_type": "text",
    "id": "ec4Y_t2n2mhY"
   },
   "source": [
    "#Data Augmentation"
   ]
  },
  {
   "cell_type": "markdown",
   "metadata": {
    "colab_type": "text",
    "id": "bKNIGjY32iCL"
   },
   "source": [
    "**About Albumentation Library**\n",
    "\n",
    "1. The library is faster than other libraries on most of the transformations.\n",
    "\n",
    "2. Based on numpy, OpenCV, imgaug picking the best from each of them.\n",
    "\n",
    "3. Simple, flexible API that allows the library to be used in any computer         vision pipeline.\n",
    "\n",
    "4. Large, diverse set of transformations.\n",
    "\n",
    "5. Written by Kaggle Masters."
   ]
  },
  {
   "cell_type": "code",
   "execution_count": 0,
   "metadata": {
    "colab": {},
    "colab_type": "code",
    "id": "Bj6-xpYL2xrq"
   },
   "outputs": [],
   "source": [
    "# https://www.kaggle.com/alexanderliao/image-augmentation-demo-with-albumentation\n",
    "\n",
    "# Data augmentation is a powerful technique to increase the amount of your data and prevent model overfitting.\n",
    "# Since our dataset is very small we will apply a large number of different augmentations\n",
    "\n",
    "# Please find the below link for data augmentation and error level analysis code. All the preprocessing was done over there.\n",
    "\n",
    "# https://github.com/gurram1223/Image-Forgery-Detection/blob/master/Image_Forgery_Localization.ipynb"
   ]
  },
  {
   "cell_type": "code",
   "execution_count": 0,
   "metadata": {
    "colab": {
     "base_uri": "https://localhost:8080/",
     "height": 51
    },
    "colab_type": "code",
    "id": "blDRtt4eKbeV",
    "outputId": "bbd334a4-ccd6-4fc9-9ed6-b71057938c59"
   },
   "outputs": [
    {
     "name": "stdout",
     "output_type": "stream",
     "text": [
      "CPU times: user 1min 46s, sys: 910 ms, total: 1min 47s\n",
      "Wall time: 1min 54s\n"
     ]
    }
   ],
   "source": [
    "%%time\n",
    "\n",
    "def horizontalFlip(image):\n",
    "    aug = HorizontalFlip(p=1)\n",
    "    augmented = aug(image=image)\n",
    "    image_hflip = augmented['image']\n",
    "    return image_hflip\n",
    "\n",
    "def verticalFlip(image):\n",
    "    aug = VerticalFlip(p=1)\n",
    "    augmented = aug(image=image)\n",
    "    image_vflip = augmented['image']\n",
    "    return image_vflip\n",
    "\n",
    "#################################################\n",
    "\n",
    "if not os.path.isfile(path+\"phase_1\"):\n",
    "    os.makedirs(path+\"phase_1/aug_only_images\")\n",
    "\n",
    "w = 8000\n",
    "for i,val in enumerate(fake_train_files):\n",
    "\n",
    "    image=cv2.imread(val)\n",
    "\n",
    "    h=horizontalFlip(image)\n",
    "    imgh=Image.fromarray(h)\n",
    "    imgh.save(path+'phase_1/aug_only_images/image{}.png'.format(w+1))\n",
    "    \n",
    "    v=verticalFlip(image)\n",
    "    imgv=Image.fromarray(v)\n",
    "    imgv.save(path+'phase_1/aug_only_images/image{}.png'.format(w+2))\n",
    "\n",
    "    w = w+3"
   ]
  },
  {
   "cell_type": "code",
   "execution_count": 0,
   "metadata": {
    "colab": {
     "base_uri": "https://localhost:8080/",
     "height": 286
    },
    "colab_type": "code",
    "id": "EIdpr_pRGLOw",
    "outputId": "3f9af598-09ab-4da6-e53b-c7a03c0e9cb6"
   },
   "outputs": [
    {
     "data": {
      "text/plain": [
       "<matplotlib.image.AxesImage at 0x7f57ff5e0c88>"
      ]
     },
     "execution_count": 85,
     "metadata": {
      "tags": []
     },
     "output_type": "execute_result"
    },
    {
     "data": {
      "image/png": "[encoded data removed]",
      "text/plain": [
       "<Figure size 432x288 with 1 Axes>"
      ]
     },
     "metadata": {
      "tags": []
     },
     "output_type": "display_data"
    }
   ],
   "source": [
    "plt.imshow(imgv)"
   ]
  },
  {
   "cell_type": "code",
   "execution_count": 0,
   "metadata": {
    "colab": {
     "base_uri": "https://localhost:8080/",
     "height": 34
    },
    "colab_type": "code",
    "id": "uwpKpEnGnMy_",
    "outputId": "f4c7f245-2a95-43c9-c981-1a8a571d50fc"
   },
   "outputs": [
    {
     "data": {
      "text/plain": [
       "712"
      ]
     },
     "execution_count": 86,
     "metadata": {
      "tags": []
     },
     "output_type": "execute_result"
    }
   ],
   "source": [
    "aug_only_train = \"/content/drive/My Drive/COLAB FILES/Image Forensics/dataset-dist/phase-01/training/phase_1/aug_only_images/\"\n",
    "len(os.listdir(aug_only_train))"
   ]
  },
  {
   "cell_type": "code",
   "execution_count": 0,
   "metadata": {
    "colab": {},
    "colab_type": "code",
    "id": "PxCHX33JtzYa"
   },
   "outputs": [],
   "source": [
    "ela_aug_only = []\n",
    "ela_aug_only_path = \"/content/drive/My Drive/COLAB FILES/Image Forensics/dataset-dist/phase-01/training/phase_1/aug_only_images/\"\n",
    "for i,img in enumerate(os.listdir(aug_only_train)):\n",
    "    ela_aug_only.append(ela_aug_only_path+img)\n",
    "X_train.extend(ela_aug_only)\n",
    "y_train.extend([0]*len(os.listdir(aug_only_train)))"
   ]
  },
  {
   "cell_type": "code",
   "execution_count": 0,
   "metadata": {
    "colab": {},
    "colab_type": "code",
    "id": "IoFk8964Be4A"
   },
   "outputs": [],
   "source": [
    "import pickle\n",
    "\n",
    "with open(aug_only_train+'X_train', 'wb') as f:\n",
    "    pickle.dump(X_train, f)\n",
    "\n",
    "with open(aug_only_train+'X_cv', 'wb') as f:\n",
    "    pickle.dump(X_cv, f)\n",
    "    \n",
    "with open(aug_only_train+'X_test', 'wb') as f:\n",
    "    pickle.dump(X_test, f)\n",
    "\n",
    "with open(aug_only_train+'y_train', 'wb') as f:\n",
    "    pickle.dump(y_train, f)\n",
    "\n",
    "with open(aug_only_train+'y_cv', 'wb') as f:\n",
    "    pickle.dump(y_cv, f)\n",
    "    \n",
    "with open(aug_only_train+'y_test', 'wb') as f:\n",
    "    pickle.dump(y_test, f) "
   ]
  },
  {
   "cell_type": "code",
   "execution_count": 0,
   "metadata": {
    "colab": {},
    "colab_type": "code",
    "id": "LvO5-j3bCW0d"
   },
   "outputs": [],
   "source": [
    "with open(aug_only_train+'X_train', 'rb') as f:\n",
    "    X_train = pickle.load(f)\n",
    "\n",
    "with open(aug_only_train+'X_cv', 'rb') as f:\n",
    "    X_cv = pickle.load(f)\n",
    "\n",
    "with open(aug_only_train+'X_test', 'rb') as f:\n",
    "    X_test = pickle.load(f)\n",
    "\n",
    "with open(aug_only_train+'y_train', 'rb') as f:\n",
    "    y_train = pickle.load(f)\n",
    "\n",
    "with open(aug_only_train+'y_cv', 'rb') as f:\n",
    "    y_cv = pickle.load(f)\n",
    "\n",
    "with open(aug_only_train+'y_test', 'rb') as f:\n",
    "    y_test = pickle.load(f)"
   ]
  },
  {
   "cell_type": "code",
   "execution_count": 0,
   "metadata": {
    "colab": {
     "base_uri": "https://localhost:8080/",
     "height": 34
    },
    "colab_type": "code",
    "id": "Dh6wMbxPoaQY",
    "outputId": "d4d1a49c-5e1a-4f60-fb68-7e68f5c784f0"
   },
   "outputs": [
    {
     "data": {
      "text/plain": [
       "(1900, 1900)"
      ]
     },
     "execution_count": 90,
     "metadata": {
      "tags": []
     },
     "output_type": "execute_result"
    }
   ],
   "source": [
    "len(X_train),len(y_train)"
   ]
  },
  {
   "cell_type": "code",
   "execution_count": 0,
   "metadata": {
    "colab": {},
    "colab_type": "code",
    "id": "bqa9_PNyvNX3"
   },
   "outputs": [],
   "source": [
    "num_classes = 2\n",
    "\n",
    "# input image dimensions\n",
    "img_rows, img_cols = 512, 512\n",
    "\n",
    "if K.image_data_format() == 'channels_first':\n",
    "    input_shape = (3, img_rows, img_cols)\n",
    "else:\n",
    "    input_shape = (img_rows, img_cols, 3)\n",
    "    \n",
    "# convert class vectors to binary class matrices\n",
    "y_train = keras.utils.to_categorical(y_train, num_classes)\n",
    "y_cv = keras.utils.to_categorical(y_cv, num_classes)\n",
    "y_test = keras.utils.to_categorical(y_test, num_classes)"
   ]
  },
  {
   "cell_type": "code",
   "execution_count": 0,
   "metadata": {
    "colab": {},
    "colab_type": "code",
    "id": "fbQu_Tf9vNVI"
   },
   "outputs": [],
   "source": [
    "# vgg16_model = vgg.VGG16(weights='imagenet',include_top=False,input_shape=input_shape)\n",
    "# for layer in vgg16_model.layers[4:]:\n",
    "#     layer.trainable = False\n",
    "\n",
    "# Resnet \n",
    "resnet_model = ResNet50(include_top=False, weights='imagenet',input_shape=input_shape)\n",
    "#resnet_model.layers[0].trainable = False"
   ]
  },
  {
   "cell_type": "code",
   "execution_count": 0,
   "metadata": {
    "colab": {},
    "colab_type": "code",
    "id": "k5sP08E6eKLs"
   },
   "outputs": [],
   "source": [
    "resnet_model.summary()"
   ]
  },
  {
   "cell_type": "markdown",
   "metadata": {
    "colab_type": "text",
    "id": "IW51ltDR4F5U"
   },
   "source": [
    "#Modelling"
   ]
  },
  {
   "cell_type": "markdown",
   "metadata": {
    "colab_type": "text",
    "id": "35D8lX0MePzd"
   },
   "source": [
    "**AUC:**\n",
    "\n",
    "https://developers.google.com/machine-learning/crash-course/classification/roc-and-auc\n",
    "\n",
    "AUC provides an aggregate measure of performance across all possible classification thresholds. \n",
    "\n",
    "One way of interpreting AUC is as the probability that the model ranks a random positive example more highly than a random negative example.\n",
    "\n",
    "AUC ranges in value from 0 to 1. A model whose predictions are 100% wrong has an AUC of 0.0; one whose predictions are 100% correct has an AUC of 1.0.\n",
    "\n",
    "AUC is desirable for the following two reasons:\n",
    "\n",
    " 1.  AUC is scale-invariant. It measures how well predictions are ranked, rather than their absolute values.\n",
    "\n",
    " 2.  AUC is classification-threshold-invariant. It measures the quality of the model's predictions irrespective of what classification threshold is chosen."
   ]
  },
  {
   "cell_type": "code",
   "execution_count": 0,
   "metadata": {
    "colab": {},
    "colab_type": "code",
    "id": "7CQe_P9H63ej"
   },
   "outputs": [],
   "source": [
    "def roc_auc(y_true, y_pred):\n",
    "    if len(np.unique(y_true[:,1])) == 1:\n",
    "        return 0.5\n",
    "    else:\n",
    "        return roc_auc_score(y_true, y_pred)\n",
    "\n",
    "def auc(y_true, y_pred):\n",
    "    return tf.py_func(roc_auc, (y_true, y_pred), tf.double)"
   ]
  },
  {
   "cell_type": "code",
   "execution_count": 0,
   "metadata": {
    "colab": {},
    "colab_type": "code",
    "id": "fFwYiHQv2LBs"
   },
   "outputs": [],
   "source": [
    "'''# Tried using transfer learning techniques(vgg16,resnet50,resnet101..). When compared we are getting the same results even with basic architecture implemented below.\n",
    "\n",
    "batch_size = 64\n",
    "num_classes = 2\n",
    "epochs = 30\n",
    "\n",
    "# Sequential model \n",
    "\n",
    "model = Sequential()\n",
    "\n",
    "model.add(Conv2D(32, kernel_size=(3, 3),activation='relu',padding='same',input_shape=input_shape,kernel_initializer='he_normal'))\n",
    "model.add(MaxPooling2D(pool_size=(2, 2)))\n",
    "\n",
    "model.add(Conv2D(64, (3,3), activation='relu',padding='same',kernel_initializer='he_normal'))          \n",
    "model.add(MaxPooling2D(pool_size=(2, 2)))\n",
    "model.add(Dropout(0.25))\n",
    "\n",
    "model.add(Conv2D(128, (5,5), activation='relu',padding='same',kernel_initializer='he_normal'))          \n",
    "model.add(MaxPooling2D(pool_size=(2, 2)))\n",
    "model.add(Dropout(0.25))\n",
    "model.add(BatchNormalization())\n",
    "                 \n",
    "model.add(Flatten())\n",
    "                 \n",
    "model.add(Dense(256, activation='relu', kernel_initializer='he_normal'))\n",
    "model.add(Dropout(0.35))\n",
    "model.add(BatchNormalization())\n",
    "                 \n",
    "model.add(Dense(num_classes, activation='softmax'))\n",
    "\n",
    "# Configures the model for training.\n",
    "model.compile(loss=keras.losses.binary_crossentropy,optimizer=keras.optimizers.Adam(),metrics=[auc])'''"
   ]
  },
  {
   "cell_type": "code",
   "execution_count": 0,
   "metadata": {
    "colab": {},
    "colab_type": "code",
    "id": "qws5s6hpvNPy"
   },
   "outputs": [],
   "source": [
    "#del model\n",
    "model=Sequential()\n",
    "model.add(resnet_model)\n",
    "\n",
    "top_model=Sequential()\n",
    "#top_model.add(Flatten(input_shape=(16, 16, 2048)))\n",
    "top_model.add(Flatten(input_shape=(16, 16, 2048)))\n",
    "top_model.add(Dense(256, activation='relu'))\n",
    "top_model.add(Dropout(0.45))\n",
    "top_model.add(Dense(128, activation='relu'))\n",
    "top_model.add(Dropout(0.4))\n",
    "top_model.add(Dense(64, activation='relu'))\n",
    "top_model.add(Dense(32, activation='relu'))\n",
    "top_model.add(BatchNormalization())\n",
    "top_model.add(Dense(2, activation='softmax'))\n",
    "\n",
    "model.add(top_model)\n",
    "\n",
    "for layer in model.layers[0].layers[:171]:\n",
    "    layer.trainable=False\n",
    "\n",
    "model.compile(loss='binary_crossentropy', optimizer=optimizers.Adam(0.00015), metrics=[auc])"
   ]
  },
  {
   "cell_type": "code",
   "execution_count": 0,
   "metadata": {
    "colab": {},
    "colab_type": "code",
    "id": "ByZCyfijvNM-"
   },
   "outputs": [],
   "source": [
    "# Loading images batchwise using generator\n",
    "\n",
    "def LoadImages(batch):\n",
    "    return np.array([resize(imread(file_name), (512, 512, 3))for file_name in batch])\n",
    "\n",
    "def loadImagesBatchwise(X_train,y_train, batch_size):\n",
    "    train_image_files=X_train\n",
    "    L = len(train_image_files)\n",
    "    while True:\n",
    "        batch_start = 0\n",
    "        batch_end = batch_size\n",
    "        \n",
    "        while batch_start < L:\n",
    "            limit = min(batch_end, L)\n",
    "            X = LoadImages(train_image_files[batch_start:limit])\n",
    "            #X = X/255.0\n",
    "            Y = y_train[batch_start:limit]\n",
    "            yield (X,Y)\n",
    "            batch_start += batch_size\n",
    "            batch_end += batch_size\n",
    " "
   ]
  },
  {
   "cell_type": "code",
   "execution_count": 0,
   "metadata": {
    "colab": {
     "base_uri": "https://localhost:8080/",
     "height": 68
    },
    "colab_type": "code",
    "id": "c4IlIts0vNJv",
    "outputId": "bb34f6af-db75-44ef-b00f-3370f3ad232f"
   },
   "outputs": [
    {
     "name": "stdout",
     "output_type": "stream",
     "text": [
      "Wait for 8 seconds...\n",
      "TensorBoard link:\n",
      "https://41d4bdc2.ngrok.io\n"
     ]
    }
   ],
   "source": [
    "tbc=TensorBoardColab()"
   ]
  },
  {
   "cell_type": "code",
   "execution_count": 0,
   "metadata": {
    "colab": {
     "base_uri": "https://localhost:8080/",
     "height": 527
    },
    "colab_type": "code",
    "id": "-YpCEHqfvNHA",
    "outputId": "99cae59b-486e-4660-d700-8f88a2c95dbe"
   },
   "outputs": [
    {
     "name": "stdout",
     "output_type": "stream",
     "text": [
      "Epoch 1/20\n",
      " - 173s - loss: 0.9155 - auc: 0.4959 - val_loss: 0.6618 - val_auc: 0.5008\n",
      "Epoch 2/20\n",
      " - 161s - loss: 0.8125 - auc: 0.5350 - val_loss: 0.6071 - val_auc: 0.7022\n",
      "Epoch 3/20\n",
      " - 165s - loss: 0.7381 - auc: 0.6029 - val_loss: 0.5607 - val_auc: 0.6629\n",
      "Epoch 4/20\n",
      " - 163s - loss: 0.6969 - auc: 0.6634 - val_loss: 0.5044 - val_auc: 0.7315\n",
      "Epoch 5/20\n",
      " - 166s - loss: 0.6567 - auc: 0.6988 - val_loss: 0.5226 - val_auc: 0.7558\n",
      "\n",
      "Epoch 00005: ReduceLROnPlateau reducing learning rate to 3.300000156741589e-05.\n",
      "Epoch 6/20\n",
      " - 158s - loss: 0.6339 - auc: 0.7101 - val_loss: 0.5184 - val_auc: 0.7719\n",
      "\n",
      "Epoch 00006: ReduceLROnPlateau reducing learning rate to 7.260000056703575e-06.\n",
      "Epoch 7/20\n",
      " - 160s - loss: 0.6101 - auc: 0.7359 - val_loss: 0.5374 - val_auc: 0.7687\n",
      "\n",
      "Epoch 00007: ReduceLROnPlateau reducing learning rate to 1.5972000164765632e-06.\n",
      "Epoch 8/20\n",
      " - 157s - loss: 0.6144 - auc: 0.7411 - val_loss: 0.5481 - val_auc: 0.7722\n",
      "\n",
      "Epoch 00008: ReduceLROnPlateau reducing learning rate to 3.5138400562573223e-07.\n",
      "Epoch 9/20\n",
      " - 160s - loss: 0.6129 - auc: 0.7324 - val_loss: 0.5275 - val_auc: 0.7800\n",
      "\n",
      "Epoch 00009: ReduceLROnPlateau reducing learning rate to 7.730448373877153e-08.\n",
      "CPU times: user 27min 10s, sys: 18min 44s, total: 45min 54s\n",
      "Wall time: 26min 13s\n"
     ]
    }
   ],
   "source": [
    "%%time\n",
    "\n",
    "# Fitting the model\n",
    "\n",
    "batch_size=8\n",
    "num_training_samples=len(X_train)\n",
    "num_validation_samples=len(X_cv)\n",
    "num_epochs=20\n",
    "\n",
    "# Save the model after every epoch.\n",
    "filepath = '/content/drive/My Drive/COLAB FILES/Image Forensics/model_detection.hdf5'\n",
    "checkpoint = keras.callbacks.ModelCheckpoint(filepath,monitor='val_auc',save_best_only=True, mode='max')\n",
    "\n",
    "# Stop training when a monitored quantity has stopped improving.\n",
    "early_stop = keras.callbacks.EarlyStopping(monitor='val_loss', patience=5)\n",
    "\n",
    "#Reduce learning rate when a metric has stopped improving.\n",
    "reduce_lr = ReduceLROnPlateau(monitor = 'val_loss', factor = 0.22, patience = 1, verbose = 1, min_delta = 0.0001)\n",
    "\n",
    "# train model\n",
    "results=model.fit_generator(loadImagesBatchwise(X_train,y_train,batch_size),steps_per_epoch=(num_training_samples // batch_size), epochs=num_epochs,\n",
    "                            validation_data=loadImagesBatchwise(X_cv,y_cv,batch_size),validation_steps=num_validation_samples//batch_size,\n",
    "                         verbose=2,callbacks=[TensorBoardColabCallback(tbc),early_stop,reduce_lr,checkpoint])"
   ]
  },
  {
   "cell_type": "markdown",
   "metadata": {
    "colab_type": "text",
    "id": "0dFoeql9e5W0"
   },
   "source": [
    "#Plots"
   ]
  },
  {
   "cell_type": "code",
   "execution_count": 0,
   "metadata": {
    "colab": {
     "base_uri": "https://localhost:8080/",
     "height": 513
    },
    "colab_type": "code",
    "id": "XXiOAHJ8vNEI",
    "outputId": "5360b276-fdaa-47a9-a3c6-61e881308420"
   },
   "outputs": [
    {
     "data": {
      "image/png": "[encoded data removed]",
      "text/plain": [
       "<Figure size 432x288 with 1 Axes>"
      ]
     },
     "metadata": {
      "tags": []
     },
     "output_type": "display_data"
    },
    {
     "data": {
      "image/png": "[encoded data removed]",
      "text/plain": [
       "<Figure size 432x288 with 1 Axes>"
      ]
     },
     "metadata": {
      "tags": []
     },
     "output_type": "display_data"
    }
   ],
   "source": [
    "# Performance\n",
    "plt.plot(results.history['auc'], 'r')\n",
    "plt.plot(results.history['val_auc'], 'b')\n",
    "plt.legend({'Train_auc': 'r', 'val_auc':'b'})\n",
    "plt.show()\n",
    "\n",
    "# Loss\n",
    "plt.plot(results.history['loss'], 'r')\n",
    "plt.plot(results.history['val_loss'], 'b')\n",
    "plt.legend({'Train Loss': 'r', 'Val Loss':'b'})\n",
    "plt.show()"
   ]
  },
  {
   "cell_type": "markdown",
   "metadata": {
    "colab_type": "text",
    "id": "oz0wn6ba26D9"
   },
   "source": [
    "#Predictions"
   ]
  },
  {
   "cell_type": "code",
   "execution_count": 0,
   "metadata": {
    "colab": {},
    "colab_type": "code",
    "id": "suvst_h3vNBo"
   },
   "outputs": [],
   "source": [
    "filepath = '/content/drive/My Drive/COLAB FILES/Image Forensics/model_detection.hdf5'\n",
    "model.load_weights(filepath) # loads the weights of the model from a HDF5 file\n",
    "test_images=LoadImages(X_test) # loading test images\n",
    "predicted=model.predict(test_images)  # Generates output predictions for the input samples."
   ]
  },
  {
   "cell_type": "code",
   "execution_count": 0,
   "metadata": {
    "colab": {
     "base_uri": "https://localhost:8080/",
     "height": 85
    },
    "colab_type": "code",
    "id": "z3IE4As0vMr3",
    "outputId": "5e1b7ad9-b83f-4c6a-998c-17a2787d12c4"
   },
   "outputs": [
    {
     "name": "stdout",
     "output_type": "stream",
     "text": [
      "180/180 [==============================] - 8s 43ms/step\n",
      "Test-Loss:  0.49839989609188506\n",
      "180/180 [==============================] - 8s 43ms/step\n",
      "Test-Score:  0.8024291620215532\n"
     ]
    }
   ],
   "source": [
    "# Scores\n",
    "\n",
    "print(\"Test-Loss: \",model.evaluate(test_images,y_test)[0])\n",
    "print(\"Test-Score: \",model.evaluate(test_images,y_test)[1])"
   ]
  },
  {
   "cell_type": "code",
   "execution_count": 0,
   "metadata": {
    "colab": {
     "base_uri": "https://localhost:8080/",
     "height": 34
    },
    "colab_type": "code",
    "id": "r63bOLfNvMpX",
    "outputId": "3acce9ed-9a71-44dd-f1c1-7965ef7044e1"
   },
   "outputs": [
    {
     "data": {
      "text/plain": [
       "'# Confusion Matrix\\n\\nimport sklearn\\ny_pred = (predicted > 0.5) \\ncm = sklearn.metrics.confusion_matrix(y_test.argmax(axis=1),y_pred.argmax(axis=1))\\ncm'"
      ]
     },
     "execution_count": 1,
     "metadata": {
      "tags": []
     },
     "output_type": "execute_result"
    }
   ],
   "source": [
    "'''# Confusion Matrix\n",
    "\n",
    "import sklearn\n",
    "y_pred = (predicted > 0.5) \n",
    "cm = sklearn.metrics.confusion_matrix(y_test.argmax(axis=1),y_pred.argmax(axis=1))\n",
    "cm'''"
   ]
  },
  {
   "cell_type": "markdown",
   "metadata": {
    "colab_type": "text",
    "id": "-PK8jUiRjGxS"
   },
   "source": [
    "#Conclusions"
   ]
  },
  {
   "cell_type": "code",
   "execution_count": 1,
   "metadata": {
    "colab": {
     "base_uri": "https://localhost:8080/",
     "height": 98
    },
    "colab_type": "code",
    "id": "XiIOJpVJvMhu",
    "outputId": "c3d86e43-a356-4d1e-8e07-d9e62bf3e2d6"
   },
   "outputs": [
    {
     "name": "stdout",
     "output_type": "stream",
     "text": [
      "+--------------+-------------+----------+------------+\n",
      "|  CNN Model   | Train Score | CV Score | Test Score |\n",
      "+--------------+-------------+----------+------------+\n",
      "| Basic Layers |     0.75    |   0.78   |    0.8     |\n",
      "+--------------+-------------+----------+------------+\n"
     ]
    }
   ],
   "source": [
    "from prettytable import PrettyTable\n",
    "    \n",
    "x = PrettyTable()\n",
    "\n",
    "x.field_names = [\"CNN Model\", \"Train Score\", \"CV Score\", \"Test Score\"]\n",
    "\n",
    "x.add_row([\"Basic Layers\", 0.75,0.78,0.80])\n",
    "\n",
    "print(x)"
   ]
  },
  {
   "cell_type": "markdown",
   "metadata": {
    "colab_type": "text",
    "id": "SZ8qaTU9iALU"
   },
   "source": [
    "Here we used error level analysis technique to detect whether an image is pristine or fake.\n",
    "\n",
    "We tried transfer learning techniques such as vgg16,resnet50,resnet101.., but with Resnet50, we are getting the good results.\n",
    "\n",
    "There are also other ways to detect forged image.\n",
    "Noise Analysis – This is basically a reverse denoising algorithm. Rather than removing the noise, it removes the rest of the image. It is using a super simple separable median filter to isolate the noise. It can be useful for identifying manipulations to the image like airbrushing, deformations, warping, and perspective corrected cloning. It works best on high-quality images.\n",
    "\n",
    "With the above architecture and some parameter setting, we got 80% with test data"
   ]
  },
  {
   "cell_type": "code",
   "execution_count": 0,
   "metadata": {
    "colab": {},
    "colab_type": "code",
    "id": "0fM5YQfVvMex"
   },
   "outputs": [],
   "source": []
  }
 ],
 "metadata": {
  "accelerator": "GPU",
  "colab": {
   "collapsed_sections": [],
   "name": "Copy_of_Image_Forgery_Detection_2.ipynb",
   "provenance": []
  },
  "kernelspec": {
   "display_name": "Python 3",
   "language": "python",
   "name": "python3"
  },
  "language_info": {
   "codemirror_mode": {
    "name": "ipython",
    "version": 3
   },
   "file_extension": ".py",
   "mimetype": "text/x-python",
   "name": "python",
   "nbconvert_exporter": "python",
   "pygments_lexer": "ipython3",
   "version": "3.7.3"
  }
 },
 "nbformat": 4,
 "nbformat_minor": 1
}
